{
 "cells": [
  {
   "cell_type": "code",
   "execution_count": 37,
   "metadata": {
    "collapsed": true,
    "ExecuteTime": {
     "start_time": "2023-04-21T19:02:56.296553Z",
     "end_time": "2023-04-21T19:02:56.338610Z"
    }
   },
   "outputs": [],
   "source": [
    "import json\n",
    "import pandas as pd\n",
    "\n",
    "import requests"
   ]
  },
  {
   "cell_type": "code",
   "execution_count": 38,
   "outputs": [],
   "source": [
    "def get_data():\n",
    "    # TODO Function definition\n",
    "    # Temperature is available in Fahrenheit, Celsius and Kelvin units.\n",
    "    # For temperature in Fahrenheit use units=imperial\n",
    "    # For temperature in Celsius use units=metric\n",
    "    # Temperature in Kelvin is used by default, no need to use units parameter in API call\n",
    "        location = 'Israel'\n",
    "        appid = \"ba5831e9252f09fd13e6d1f1da96d1e2\"\n",
    "        units = 'metric'\n",
    "        headers = {'Content-Type': 'application/json'}\n",
    "        api = f'https://api.openweathermap.org/data/2.5/weather?q={location}&appid={appid}&units={units}'\n",
    "        response = requests.get(f\"{api}\", headers=headers)\n",
    "        if response.status_code == 200:\n",
    "\n",
    "            with open('weather.json', 'w') as file:\n",
    "                file.write(response.text)\n",
    "\n",
    "        else:\n",
    "            print(f\"Hello person, there's a {response.status_code} error with your request\")"
   ],
   "metadata": {
    "collapsed": false,
    "ExecuteTime": {
     "start_time": "2023-04-21T19:02:56.338724Z",
     "end_time": "2023-04-21T19:02:56.338884Z"
    }
   }
  },
  {
   "cell_type": "code",
   "execution_count": 39,
   "outputs": [],
   "source": [
    "# Calling the function to get de api data\n",
    "get_data()"
   ],
   "metadata": {
    "collapsed": false,
    "ExecuteTime": {
     "start_time": "2023-04-21T19:02:56.338874Z",
     "end_time": "2023-04-21T19:02:56.617600Z"
    }
   }
  },
  {
   "cell_type": "code",
   "execution_count": 40,
   "outputs": [],
   "source": [
    "data = json.load(open('weather.json'))\n",
    "\n",
    "df = pd.json_normalize(data)"
   ],
   "metadata": {
    "collapsed": false,
    "ExecuteTime": {
     "start_time": "2023-04-21T19:02:56.618370Z",
     "end_time": "2023-04-21T19:02:56.662626Z"
    }
   }
  },
  {
   "cell_type": "code",
   "execution_count": 41,
   "outputs": [],
   "source": [
    "# Creating an empty DF to poblate with data\n",
    "df_clean = pd.DataFrame()\n",
    "\n",
    "new_columns_name = ['temperature', 'humidity', 'wind_speed']\n",
    "columns_to_rename = ['main.temp', 'main.humidity', 'wind.speed']\n",
    "\n",
    "# Poblate new DF with API data and renaming columns\n",
    "df_clean[new_columns_name] = df[columns_to_rename]"
   ],
   "metadata": {
    "collapsed": false,
    "ExecuteTime": {
     "start_time": "2023-04-21T19:02:56.662716Z",
     "end_time": "2023-04-21T19:02:56.662874Z"
    }
   }
  },
  {
   "cell_type": "code",
   "execution_count": 42,
   "outputs": [
    {
     "data": {
      "text/plain": "   temperature  humidity  wind_speed\n0        14.64        80        2.69",
      "text/html": "<div>\n<style scoped>\n    .dataframe tbody tr th:only-of-type {\n        vertical-align: middle;\n    }\n\n    .dataframe tbody tr th {\n        vertical-align: top;\n    }\n\n    .dataframe thead th {\n        text-align: right;\n    }\n</style>\n<table border=\"1\" class=\"dataframe\">\n  <thead>\n    <tr style=\"text-align: right;\">\n      <th></th>\n      <th>temperature</th>\n      <th>humidity</th>\n      <th>wind_speed</th>\n    </tr>\n  </thead>\n  <tbody>\n    <tr>\n      <th>0</th>\n      <td>14.64</td>\n      <td>80</td>\n      <td>2.69</td>\n    </tr>\n  </tbody>\n</table>\n</div>"
     },
     "execution_count": 42,
     "metadata": {},
     "output_type": "execute_result"
    }
   ],
   "source": [
    "# Checking the correct renaming of selected columns\n",
    "df_clean.head()"
   ],
   "metadata": {
    "collapsed": false,
    "ExecuteTime": {
     "start_time": "2023-04-21T19:02:56.662851Z",
     "end_time": "2023-04-21T19:02:56.663157Z"
    }
   }
  },
  {
   "cell_type": "code",
   "execution_count": 43,
   "outputs": [],
   "source": [
    "# df_clean = df_clean.rename(columns={\"main.temp\": \"temperature\", \"main.humidity\": \"humidity\", \"wind.speed\": \"wind_speed\"})"
   ],
   "metadata": {
    "collapsed": false,
    "ExecuteTime": {
     "start_time": "2023-04-21T19:02:56.662967Z",
     "end_time": "2023-04-21T19:02:56.663306Z"
    }
   }
  },
  {
   "cell_type": "code",
   "execution_count": 44,
   "outputs": [
    {
     "data": {
      "text/plain": "Index(['temperature', 'humidity', 'wind_speed'], dtype='object')"
     },
     "execution_count": 44,
     "metadata": {},
     "output_type": "execute_result"
    }
   ],
   "source": [
    "df_clean.columns"
   ],
   "metadata": {
    "collapsed": false,
    "ExecuteTime": {
     "start_time": "2023-04-21T19:02:56.663075Z",
     "end_time": "2023-04-21T19:02:56.663537Z"
    }
   }
  },
  {
   "cell_type": "code",
   "execution_count": 45,
   "outputs": [
    {
     "data": {
      "text/plain": "'[{\"temperature\":14.64,\"humidity\":80,\"wind_speed\":2.69}]'"
     },
     "execution_count": 45,
     "metadata": {},
     "output_type": "execute_result"
    }
   ],
   "source": [
    "# df_clean.to_json('weather_clean.json', orient='records')\n",
    "# Saving DF as a JSON object\n",
    "df_clean.to_json(orient='records')"
   ],
   "metadata": {
    "collapsed": false,
    "ExecuteTime": {
     "start_time": "2023-04-21T19:02:56.663220Z",
     "end_time": "2023-04-21T19:02:56.663707Z"
    }
   }
  }
 ],
 "metadata": {
  "kernelspec": {
   "display_name": "Python 3",
   "language": "python",
   "name": "python3"
  },
  "language_info": {
   "codemirror_mode": {
    "name": "ipython",
    "version": 2
   },
   "file_extension": ".py",
   "mimetype": "text/x-python",
   "name": "python",
   "nbconvert_exporter": "python",
   "pygments_lexer": "ipython2",
   "version": "2.7.6"
  }
 },
 "nbformat": 4,
 "nbformat_minor": 0
}
